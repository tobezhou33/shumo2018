{
 "cells": [
  {
   "cell_type": "code",
   "execution_count": 107,
   "metadata": {},
   "outputs": [],
   "source": [
    "import numpy as np\n",
    "import pandas as pd"
   ]
  },
  {
   "cell_type": "code",
   "execution_count": 111,
   "metadata": {
    "scrolled": true
   },
   "outputs": [],
   "source": [
    "df = pd.read_excel('temp.xlsx')"
   ]
  },
  {
   "cell_type": "code",
   "execution_count": 115,
   "metadata": {
    "scrolled": true
   },
   "outputs": [
    {
     "name": "stderr",
     "output_type": "stream",
     "text": [
      "C:\\Users\\pc1\\Anaconda3\\lib\\site-packages\\ipykernel_launcher.py:3: SettingWithCopyWarning: \n",
      "A value is trying to be set on a copy of a slice from a DataFrame\n",
      "\n",
      "See the caveats in the documentation: http://pandas.pydata.org/pandas-docs/stable/indexing.html#indexing-view-versus-copy\n",
      "  This is separate from the ipykernel package so we can avoid doing imports until\n",
      "C:\\Users\\pc1\\Anaconda3\\lib\\site-packages\\pandas\\core\\indexing.py:189: SettingWithCopyWarning: \n",
      "A value is trying to be set on a copy of a slice from a DataFrame\n",
      "\n",
      "See the caveats in the documentation: http://pandas.pydata.org/pandas-docs/stable/indexing.html#indexing-view-versus-copy\n",
      "  self._setitem_with_indexer(indexer, value)\n",
      "C:\\Users\\pc1\\Anaconda3\\lib\\site-packages\\ipykernel_launcher.py:5: SettingWithCopyWarning: \n",
      "A value is trying to be set on a copy of a slice from a DataFrame\n",
      "\n",
      "See the caveats in the documentation: http://pandas.pydata.org/pandas-docs/stable/indexing.html#indexing-view-versus-copy\n",
      "  \"\"\"\n",
      "C:\\Users\\pc1\\Anaconda3\\lib\\site-packages\\ipykernel_launcher.py:6: SettingWithCopyWarning: \n",
      "A value is trying to be set on a copy of a slice from a DataFrame\n",
      "\n",
      "See the caveats in the documentation: http://pandas.pydata.org/pandas-docs/stable/indexing.html#indexing-view-versus-copy\n",
      "  \n"
     ]
    }
   ],
   "source": [
    "for i in range(len(df['t'])):\n",
    "    if df['t'][i] < 1440:\n",
    "        df['real'][i] = '2018-1-19' +' '+ str(int(df['t'][i]/60)) + ':' + str(df['t'][i]% 60)\n",
    "    else:\n",
    "        df['t'][i] -= 1440\n",
    "        df['real'][i] = '2018-1-20 '+ str(int(df['t'][i]/60)) + ':' + str(df['t'][i]% 60)\n",
    "df.to_excel('temp.xlsx')"
   ]
  },
  {
   "cell_type": "code",
   "execution_count": 116,
   "metadata": {},
   "outputs": [],
   "source": [
    "df = pd.read_excel('temp.xlsx')\n",
    "transactions=pd.to_datetime(df['real'], format='%Y-%m-%d %H:%M')"
   ]
  },
  {
   "cell_type": "code",
   "execution_count": 117,
   "metadata": {
    "scrolled": true
   },
   "outputs": [
    {
     "data": {
      "text/plain": [
       "0    2018-01-19 20:10:00\n",
       "1    2018-01-19 20:25:00\n",
       "2    2018-01-19 21:50:00\n",
       "3    2018-01-19 22:00:00\n",
       "4    2018-01-19 22:05:00\n",
       "5    2018-01-19 22:25:00\n",
       "6    2018-01-19 22:30:00\n",
       "7    2018-01-19 22:50:00\n",
       "8    2018-01-19 23:10:00\n",
       "9    2018-01-19 23:20:00\n",
       "10   2018-01-20 00:15:00\n",
       "11   2018-01-20 05:55:00\n",
       "12   2018-01-20 06:25:00\n",
       "13   2018-01-20 07:00:00\n",
       "14   2018-01-20 07:20:00\n",
       "15   2018-01-20 08:35:00\n",
       "16   2018-01-20 08:40:00\n",
       "17   2018-01-20 08:45:00\n",
       "18   2018-01-20 08:55:00\n",
       "19   2018-01-20 09:20:00\n",
       "20   2018-01-20 09:35:00\n",
       "21   2018-01-20 09:40:00\n",
       "22   2018-01-20 09:45:00\n",
       "23   2018-01-20 09:50:00\n",
       "24   2018-01-20 09:55:00\n",
       "25   2018-01-20 10:10:00\n",
       "26   2018-01-20 10:15:00\n",
       "27   2018-01-20 10:20:00\n",
       "28   2018-01-20 10:25:00\n",
       "29   2018-01-20 10:30:00\n",
       "             ...        \n",
       "45   2018-01-20 16:35:00\n",
       "46   2018-01-20 16:55:00\n",
       "47   2018-01-20 17:20:00\n",
       "48   2018-01-20 17:30:00\n",
       "49   2018-01-20 18:00:00\n",
       "50   2018-01-20 18:20:00\n",
       "51   2018-01-20 18:30:00\n",
       "52   2018-01-20 18:50:00\n",
       "53   2018-01-20 18:55:00\n",
       "54   2018-01-20 19:15:00\n",
       "55   2018-01-20 19:20:00\n",
       "56   2018-01-20 19:30:00\n",
       "57   2018-01-20 19:40:00\n",
       "58   2018-01-20 20:00:00\n",
       "59   2018-01-20 20:10:00\n",
       "60   2018-01-20 20:15:00\n",
       "61   2018-01-20 20:25:00\n",
       "62   2018-01-20 20:30:00\n",
       "63   2018-01-20 21:00:00\n",
       "64   2018-01-20 21:05:00\n",
       "65   2018-01-20 21:15:00\n",
       "66   2018-01-20 21:20:00\n",
       "67   2018-01-20 21:30:00\n",
       "68   2018-01-20 21:45:00\n",
       "69   2018-01-20 22:00:00\n",
       "70   2018-01-20 22:05:00\n",
       "71   2018-01-20 22:30:00\n",
       "72   2018-01-20 22:50:00\n",
       "73   2018-01-20 23:10:00\n",
       "74   2018-01-20 23:25:00\n",
       "Name: real, Length: 75, dtype: datetime64[ns]"
      ]
     },
     "execution_count": 117,
     "metadata": {},
     "output_type": "execute_result"
    }
   ],
   "source": [
    "transactions"
   ]
  },
  {
   "cell_type": "code",
   "execution_count": 118,
   "metadata": {},
   "outputs": [],
   "source": [
    "df1 = pd.read_excel('原始date.xlsx')"
   ]
  },
  {
   "cell_type": "code",
   "execution_count": 91,
   "metadata": {
    "collapsed": true
   },
   "outputs": [
    {
     "data": {
      "text/html": [
       "<div>\n",
       "<style scoped>\n",
       "    .dataframe tbody tr th:only-of-type {\n",
       "        vertical-align: middle;\n",
       "    }\n",
       "\n",
       "    .dataframe tbody tr th {\n",
       "        vertical-align: top;\n",
       "    }\n",
       "\n",
       "    .dataframe thead th {\n",
       "        text-align: right;\n",
       "    }\n",
       "</style>\n",
       "<table border=\"1\" class=\"dataframe\">\n",
       "  <thead>\n",
       "    <tr style=\"text-align: right;\">\n",
       "      <th></th>\n",
       "      <th>到达时间</th>\n",
       "      <th>出发时间</th>\n",
       "      <th>到达航班</th>\n",
       "      <th>出发航班</th>\n",
       "      <th>y</th>\n",
       "      <th>ID类型</th>\n",
       "    </tr>\n",
       "  </thead>\n",
       "  <tbody>\n",
       "    <tr>\n",
       "      <th>15</th>\n",
       "      <td>2018-01-19 20:10:00</td>\n",
       "      <td>2018-01-20 13:55:00</td>\n",
       "      <td>NV6317</td>\n",
       "      <td>NV6540</td>\n",
       "      <td>16</td>\n",
       "      <td>NaN</td>\n",
       "    </tr>\n",
       "    <tr>\n",
       "      <th>16</th>\n",
       "      <td>2018-01-19 20:10:00</td>\n",
       "      <td>2018-01-20 10:40:00</td>\n",
       "      <td>GN0237</td>\n",
       "      <td>GN920</td>\n",
       "      <td>17</td>\n",
       "      <td>NaN</td>\n",
       "    </tr>\n",
       "    <tr>\n",
       "      <th>17</th>\n",
       "      <td>2018-01-19 20:10:00</td>\n",
       "      <td>2018-01-20 01:50:00</td>\n",
       "      <td>NV621</td>\n",
       "      <td>NV322</td>\n",
       "      <td>18</td>\n",
       "      <td>NaN</td>\n",
       "    </tr>\n",
       "  </tbody>\n",
       "</table>\n",
       "</div>"
      ],
      "text/plain": [
       "                  到达时间                出发时间    到达航班    出发航班   y  ID类型\n",
       "15 2018-01-19 20:10:00 2018-01-20 13:55:00  NV6317  NV6540  16   NaN\n",
       "16 2018-01-19 20:10:00 2018-01-20 10:40:00  GN0237   GN920  17   NaN\n",
       "17 2018-01-19 20:10:00 2018-01-20 01:50:00   NV621   NV322  18   NaN"
      ]
     },
     "execution_count": 91,
     "metadata": {},
     "output_type": "execute_result"
    }
   ],
   "source": [
    "df1.loc[df1['到达时间'] == '2018-01-19 20:10:00']"
   ]
  },
  {
   "cell_type": "code",
   "execution_count": 119,
   "metadata": {},
   "outputs": [
    {
     "data": {
      "text/plain": [
       "75"
      ]
     },
     "execution_count": 119,
     "metadata": {},
     "output_type": "execute_result"
    }
   ],
   "source": [
    "len(transactions)"
   ]
  },
  {
   "cell_type": "code",
   "execution_count": 120,
   "metadata": {
    "scrolled": true
   },
   "outputs": [
    {
     "data": {
      "text/plain": [
       "['2018-01-19 20:10:00',\n",
       " '2018-01-19 20:25:00',\n",
       " '2018-01-19 21:50:00',\n",
       " '2018-01-19 22:00:00',\n",
       " '2018-01-19 22:05:00',\n",
       " '2018-01-19 22:25:00',\n",
       " '2018-01-19 22:30:00',\n",
       " '2018-01-19 22:50:00',\n",
       " '2018-01-19 23:10:00',\n",
       " '2018-01-19 23:20:00',\n",
       " '2018-01-20 00:15:00',\n",
       " '2018-01-20 05:55:00',\n",
       " '2018-01-20 06:25:00',\n",
       " '2018-01-20 07:00:00',\n",
       " '2018-01-20 07:20:00',\n",
       " '2018-01-20 08:35:00',\n",
       " '2018-01-20 08:40:00',\n",
       " '2018-01-20 08:45:00',\n",
       " '2018-01-20 08:55:00',\n",
       " '2018-01-20 09:20:00',\n",
       " '2018-01-20 09:35:00',\n",
       " '2018-01-20 09:40:00',\n",
       " '2018-01-20 09:45:00',\n",
       " '2018-01-20 09:50:00',\n",
       " '2018-01-20 09:55:00',\n",
       " '2018-01-20 10:10:00',\n",
       " '2018-01-20 10:15:00',\n",
       " '2018-01-20 10:20:00',\n",
       " '2018-01-20 10:25:00',\n",
       " '2018-01-20 10:30:00',\n",
       " '2018-01-20 10:40:00',\n",
       " '2018-01-20 11:00:00',\n",
       " '2018-01-20 12:25:00',\n",
       " '2018-01-20 13:40:00',\n",
       " '2018-01-20 13:50:00',\n",
       " '2018-01-20 14:25:00',\n",
       " '2018-01-20 14:45:00',\n",
       " '2018-01-20 14:50:00',\n",
       " '2018-01-20 14:55:00',\n",
       " '2018-01-20 15:00:00',\n",
       " '2018-01-20 15:20:00',\n",
       " '2018-01-20 15:25:00',\n",
       " '2018-01-20 15:55:00',\n",
       " '2018-01-20 16:20:00',\n",
       " '2018-01-20 16:30:00',\n",
       " '2018-01-20 16:35:00',\n",
       " '2018-01-20 16:55:00',\n",
       " '2018-01-20 17:20:00',\n",
       " '2018-01-20 17:30:00',\n",
       " '2018-01-20 18:00:00',\n",
       " '2018-01-20 18:20:00',\n",
       " '2018-01-20 18:30:00',\n",
       " '2018-01-20 18:50:00',\n",
       " '2018-01-20 18:55:00',\n",
       " '2018-01-20 19:15:00',\n",
       " '2018-01-20 19:20:00',\n",
       " '2018-01-20 19:30:00',\n",
       " '2018-01-20 19:40:00',\n",
       " '2018-01-20 20:00:00',\n",
       " '2018-01-20 20:10:00',\n",
       " '2018-01-20 20:15:00',\n",
       " '2018-01-20 20:25:00',\n",
       " '2018-01-20 20:30:00',\n",
       " '2018-01-20 21:00:00',\n",
       " '2018-01-20 21:05:00',\n",
       " '2018-01-20 21:15:00',\n",
       " '2018-01-20 21:20:00',\n",
       " '2018-01-20 21:30:00',\n",
       " '2018-01-20 21:45:00',\n",
       " '2018-01-20 22:00:00',\n",
       " '2018-01-20 22:05:00',\n",
       " '2018-01-20 22:30:00',\n",
       " '2018-01-20 22:50:00',\n",
       " '2018-01-20 23:10:00',\n",
       " '2018-01-20 23:25:00']"
      ]
     },
     "execution_count": 120,
     "metadata": {},
     "output_type": "execute_result"
    }
   ],
   "source": [
    "len(df1['到达时间'])\n",
    "x1= []\n",
    "for i in range(75):\n",
    "    x1.append(str(transactions[i]))\n",
    "x1"
   ]
  },
  {
   "cell_type": "code",
   "execution_count": 121,
   "metadata": {},
   "outputs": [
    {
     "name": "stderr",
     "output_type": "stream",
     "text": [
      "C:\\Users\\pc1\\Anaconda3\\lib\\site-packages\\pandas\\core\\frame.py:6201: FutureWarning: Sorting because non-concatenation axis is not aligned. A future version\n",
      "of pandas will change to not sort by default.\n",
      "\n",
      "To accept the future behavior, pass 'sort=True'.\n",
      "\n",
      "To retain the current behavior and silence the warning, pass sort=False\n",
      "\n",
      "  sort=sort)\n"
     ]
    }
   ],
   "source": [
    "df = pd.DataFrame(columns = [\"到达时间\", \"出发时间\", \"到达航班\", \"y\"])\n",
    "for i in range(75):\n",
    "    df = df.append(df1.loc[df1['到达时间'] == x1[i]])"
   ]
  },
  {
   "cell_type": "code",
   "execution_count": 123,
   "metadata": {},
   "outputs": [],
   "source": [
    "df.to_excel('temp1.xlsx')"
   ]
  },
  {
   "cell_type": "code",
   "execution_count": 135,
   "metadata": {},
   "outputs": [],
   "source": [
    "df = pd.read_excel('temp1.xlsx')\n",
    "df['y']  = pd.Series(np.arange(1,178)) "
   ]
  },
  {
   "cell_type": "code",
   "execution_count": 136,
   "metadata": {},
   "outputs": [],
   "source": [
    "df.to_excel('temp1.xlsx')"
   ]
  },
  {
   "cell_type": "code",
   "execution_count": 28,
   "metadata": {
    "scrolled": true
   },
   "outputs": [
    {
     "data": {
      "image/png": "[encoded data removed]",
      "text/plain": [
       "<Figure size 720x288 with 1 Axes>"
      ]
     },
     "metadata": {},
     "output_type": "display_data"
    }
   ],
   "source": [
    "import pandas as pd\n",
    "from matplotlib import pyplot as plt\n",
    "\n",
    "\n",
    "postage=pd.read_excel('换乘时间分配.xlsx')\n",
    "\n",
    "fig,ax=plt.subplots(figsize=(10,4))\n",
    "\n",
    "ax.step(postage[\"x\"],postage[\"y\"],where='post')\n",
    "\n",
    "\n",
    "ax.set_title(\"US Postage Fee\") #设置标题\n",
    "ax.set_xticks([i for i in postage[\"x\"]]) #设置x轴刻度\n",
    "ax.set_yticks([]) #去除y轴刻度\n",
    "\n",
    "#去除边框\n",
    "ax.spines[\"top\"].set_visible(False)\n",
    "ax.spines[\"bottom\"].set_visible(False)\n",
    "ax.spines[\"left\"].set_visible(False)\n",
    "ax.spines[\"right\"].set_visible(False)\n",
    "\n",
    "#添加文字注释\n",
    "for i,j in zip(postage[\"x\"],postage[\"y\"]):\n",
    "    ax.text(x=i,y=j+0.003,s=j)\n",
    "fig.tight_layout()\n"
   ]
  },
  {
   "cell_type": "code",
   "execution_count": 21,
   "metadata": {},
   "outputs": [
    {
     "ename": "NameError",
     "evalue": "name 'x' is not defined",
     "output_type": "error",
     "traceback": [
      "\u001b[1;31m---------------------------------------------------------------------------\u001b[0m",
      "\u001b[1;31mNameError\u001b[0m                                 Traceback (most recent call last)",
      "\u001b[1;32m<ipython-input-21-6fcf9dfbd479>\u001b[0m in \u001b[0;36m<module>\u001b[1;34m()\u001b[0m\n\u001b[1;32m----> 1\u001b[1;33m \u001b[0mx\u001b[0m\u001b[1;33m\u001b[0m\u001b[0m\n\u001b[0m",
      "\u001b[1;31mNameError\u001b[0m: name 'x' is not defined"
     ]
    }
   ],
   "source": [
    "x"
   ]
  },
  {
   "cell_type": "code",
   "execution_count": null,
   "metadata": {},
   "outputs": [],
   "source": []
  },
  {
   "cell_type": "code",
   "execution_count": null,
   "metadata": {},
   "outputs": [],
   "source": []
  },
  {
   "cell_type": "code",
   "execution_count": null,
   "metadata": {},
   "outputs": [],
   "source": []
  }
 ],
 "metadata": {
  "kernelspec": {
   "display_name": "Python 3",
   "language": "python",
   "name": "python3"
  },
  "language_info": {
   "codemirror_mode": {
    "name": "ipython",
    "version": 3
   },
   "file_extension": ".py",
   "mimetype": "text/x-python",
   "name": "python",
   "nbconvert_exporter": "python",
   "pygments_lexer": "ipython3",
   "version": "3.6.5"
  }
 },
 "nbformat": 4,
 "nbformat_minor": 2
}
