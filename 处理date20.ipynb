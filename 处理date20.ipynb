{
 "cells": [
  {
   "cell_type": "code",
   "execution_count": 93,
   "metadata": {},
   "outputs": [],
   "source": [
    "import pandas as pd\n",
    "import numpy as np\n",
    "import sys\n",
    "from openpyxl import load_workbook\n",
    " \n",
    "import matplotlib.dates as mdates"
   ]
  },
  {
   "cell_type": "code",
   "execution_count": 94,
   "metadata": {
    "scrolled": true
   },
   "outputs": [],
   "source": [
    "df = pd.read_excel('InputData.xlsx')\n",
    "df1 = df['到达日期']\n",
    "df2 = df1.astype(str) +\" \" +df['到达时刻'].astype(str)\n",
    "transactions=pd.to_datetime(df2, format='%Y-%m-%d  %H:%M:%S')\n",
    "transactions.to_csv('df2.csv')\n",
    "df3 = df['出发日期'].astype(str) +\" \" +df['出发时刻'].astype(str)\n",
    "df3 = pd.to_datetime(df3, format='%Y-%m-%d  %H:%M:%S')\n",
    "df4 = pd.DataFrame({\"到达时间\":transactions, \"出发时间\":df3 , \"到达航班\":df['到达航班'], \"出发航班\":df['出发航班']})\n",
    "df4.to_excel('date.xlsx', encoding='utf_8_sig')\n"
   ]
  },
  {
   "cell_type": "code",
   "execution_count": 95,
   "metadata": {},
   "outputs": [],
   "source": [
    "df5 = pd.read_excel('date.xlsx')"
   ]
  },
  {
   "cell_type": "code",
   "execution_count": 87,
   "metadata": {},
   "outputs": [],
   "source": [
    "df6 = pd.read_excel('rec_gate.xlsx')\n"
   ]
  },
  {
   "cell_type": "code",
   "execution_count": 88,
   "metadata": {},
   "outputs": [
    {
     "data": {
      "text/plain": [
       "[421, 436]"
      ]
     },
     "execution_count": 88,
     "metadata": {},
     "output_type": "execute_result"
    }
   ],
   "source": [
    "df6 = pd.read_excel('rec_gate.xlsx')\n",
    "X = [i for i in df6['t8']]\n",
    "X1 = [i-1 for i in X]\n",
    "X1 = [i for i in X1 if i != -1]\n",
    "X1"
   ]
  },
  {
   "cell_type": "code",
   "execution_count": 89,
   "metadata": {
    "scrolled": true
   },
   "outputs": [],
   "source": [
    "df5 = pd.DataFrame({'time1':df5['到达时间'][X1],  'time2':df5['出发时间'][X1], \n",
    "                   '到达航班':df5['到达航班'][X1], '出发航班': df5['出发航班'][X1]})"
   ]
  },
  {
   "cell_type": "code",
   "execution_count": 90,
   "metadata": {
    "scrolled": false
   },
   "outputs": [
    {
     "data": {
      "text/html": [
       "<div>\n",
       "<style scoped>\n",
       "    .dataframe tbody tr th:only-of-type {\n",
       "        vertical-align: middle;\n",
       "    }\n",
       "\n",
       "    .dataframe tbody tr th {\n",
       "        vertical-align: top;\n",
       "    }\n",
       "\n",
       "    .dataframe thead th {\n",
       "        text-align: right;\n",
       "    }\n",
       "</style>\n",
       "<table border=\"1\" class=\"dataframe\">\n",
       "  <thead>\n",
       "    <tr style=\"text-align: right;\">\n",
       "      <th></th>\n",
       "      <th>time1</th>\n",
       "      <th>time2</th>\n",
       "      <th>到达航班</th>\n",
       "      <th>出发航班</th>\n",
       "    </tr>\n",
       "  </thead>\n",
       "  <tbody>\n",
       "    <tr>\n",
       "      <th>421</th>\n",
       "      <td>2018-01-20 22:25:00</td>\n",
       "      <td>2018-01-20 23:15:00</td>\n",
       "      <td>GN0645</td>\n",
       "      <td>*****</td>\n",
       "    </tr>\n",
       "    <tr>\n",
       "      <th>436</th>\n",
       "      <td>2018-01-20 23:30:00</td>\n",
       "      <td>2018-01-21 09:05:00</td>\n",
       "      <td>NV3195</td>\n",
       "      <td>NV6514</td>\n",
       "    </tr>\n",
       "  </tbody>\n",
       "</table>\n",
       "</div>"
      ],
      "text/plain": [
       "                  time1               time2    到达航班    出发航班\n",
       "421 2018-01-20 22:25:00 2018-01-20 23:15:00  GN0645   *****\n",
       "436 2018-01-20 23:30:00 2018-01-21 09:05:00  NV3195  NV6514"
      ]
     },
     "execution_count": 90,
     "metadata": {},
     "output_type": "execute_result"
    }
   ],
   "source": [
    "df5.head()"
   ]
  },
  {
   "cell_type": "code",
   "execution_count": 92,
   "metadata": {},
   "outputs": [],
   "source": [
    "df5.to_excel('shuju.xlsx')"
   ]
  },
  {
   "cell_type": "code",
   "execution_count": null,
   "metadata": {},
   "outputs": [],
   "source": []
  }
 ],
 "metadata": {
  "kernelspec": {
   "display_name": "Python 3",
   "language": "python",
   "name": "python3"
  },
  "language_info": {
   "codemirror_mode": {
    "name": "ipython",
    "version": 3
   },
   "file_extension": ".py",
   "mimetype": "text/x-python",
   "name": "python",
   "nbconvert_exporter": "python",
   "pygments_lexer": "ipython3",
   "version": "3.6.5"
  }
 },
 "nbformat": 4,
 "nbformat_minor": 2
}
